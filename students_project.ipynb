{
 "cells": [
  {
   "cell_type": "code",
   "execution_count": null,
   "metadata": {
    "application/vnd.databricks.v1+cell": {
     "cellMetadata": {
      "byteLimit": 2048000,
      "rowLimit": 10000
     },
     "inputWidgets": {},
     "nuid": "390d730b-7640-45d5-8acf-64bf56b05860",
     "showTitle": false,
     "title": ""
    }
   },
   "outputs": [],
   "source": [
    "from pyspark import SparkConf, SparkContext\n",
    "from pyspark.storagelevel import StorageLevel\n",
    "conf = SparkConf().setAppName(\"StuApp\")\n",
    "sc = SparkContext.getOrCreate(conf=conf)"
   ]
  },
  {
   "cell_type": "code",
   "execution_count": null,
   "metadata": {
    "application/vnd.databricks.v1+cell": {
     "cellMetadata": {
      "byteLimit": 2048000,
      "rowLimit": 10000
     },
     "inputWidgets": {},
     "nuid": "b5733c41-3898-4b1f-bfa3-ef678f3ee264",
     "showTitle": false,
     "title": ""
    }
   },
   "outputs": [
    {
     "name": "stdout",
     "output_type": "stream",
     "text": [
      "Out[2]: ['age,gender,name,course,roll,marks,email',\n",
      " '28,Female,Hubert Oliveras,DB,02984,59,Annika Hoffman_Naoma Fritts@OOP.com',\n",
      " '29,Female,Toshiko Hillyard,Cloud,12899,62,Margene Moores_Marylee Capasso@DB.com',\n",
      " '28,Male,Celeste Lollis,PF,21267,45,Jeannetta Golden_Jenna Montague@DSA.com',\n",
      " '29,Female,Elenore Choy,DB,32877,29,Billi Clore_Mitzi Seldon@DB.com',\n",
      " '28,Male,Sheryll Towler,DSA,41487,41,Claude Panos_Judie Chipps@OOP.com',\n",
      " '28,Male,Margene Moores,MVC,52771,32,Toshiko Hillyard_Clementina Menke@MVC.com',\n",
      " '28,Male,Neda Briski,OOP,61973,69,Alberta Freund_Elenore Choy@DB.com',\n",
      " '28,Female,Claude Panos,Cloud,72409,85,Sheryll Towler_Alberta Freund@Cloud.com',\n",
      " '28,Male,Celeste Lollis,MVC,81492,64,Nicole Harwood_Claude Panos@MVC.com']"
     ]
    }
   ],
   "source": [
    "raw_stu_data = sc.textFile('/FileStore/tables/StudentData.csv')\n",
    "raw_stu_data.take(10)"
   ]
  },
  {
   "cell_type": "code",
   "execution_count": null,
   "metadata": {
    "application/vnd.databricks.v1+cell": {
     "cellMetadata": {
      "byteLimit": 2048000,
      "rowLimit": 10000
     },
     "inputWidgets": {},
     "nuid": "675e200d-cbae-4052-88a0-5b232a657826",
     "showTitle": false,
     "title": ""
    }
   },
   "outputs": [
    {
     "name": "stdout",
     "output_type": "stream",
     "text": [
      "Out[5]: PythonRDD[167] at RDD at PythonRDD.scala:58"
     ]
    }
   ],
   "source": [
    "#remove header line and split row for all jobs that follow\n",
    "raw_stu_data = sc.textFile('/FileStore/tables/StudentData.csv')\n",
    "header = raw_stu_data.first()\n",
    "raw_stu_data = raw_stu_data.filter(lambda row: row != header)\n",
    "raw_stu_data = raw_stu_data.map(lambda row: row.split(',') )\n",
    "raw_stu_data.persist(StorageLevel.MEMORY_AND_DISK_DESER)"
   ]
  },
  {
   "cell_type": "code",
   "execution_count": null,
   "metadata": {
    "application/vnd.databricks.v1+cell": {
     "cellMetadata": {
      "byteLimit": 2048000,
      "rowLimit": 10000
     },
     "inputWidgets": {},
     "nuid": "6f3ecd81-a84d-46a3-8633-67848a460b6f",
     "showTitle": false,
     "title": ""
    }
   },
   "outputs": [
    {
     "name": "stdout",
     "output_type": "stream",
     "text": [
      "Out[55]: 50"
     ]
    }
   ],
   "source": [
    "##### number of unique students in file #####\n",
    "# map to key = student name, then reduce to filter out duplicate names\n",
    "stu_names = raw_stu_data.map(lambda row: (row[2], None) )\n",
    "stu_names = stu_names.reduceByKey(lambda val1, val2: None)\n",
    "stu_names.count()"
   ]
  },
  {
   "cell_type": "code",
   "execution_count": null,
   "metadata": {
    "application/vnd.databricks.v1+cell": {
     "cellMetadata": {
      "byteLimit": 2048000,
      "rowLimit": 10000
     },
     "inputWidgets": {},
     "nuid": "da82bad9-5182-4ecb-bdfc-3e4d1dd0d335",
     "showTitle": false,
     "title": ""
    }
   },
   "outputs": [
    {
     "name": "stdout",
     "output_type": "stream",
     "text": [
      "Out[56]: [('Female', 29636), ('Male', 30461)]"
     ]
    }
   ],
   "source": [
    "##### total marks by male/female students #####\n",
    "# map to key: gender, val: grade\n",
    "stu_marks = raw_stu_data.map(lambda row: (row[1], int(row[5]) ) )\n",
    "stu_marks = stu_marks.reduceByKey(lambda val1, val2: val1 + val2)\n",
    "stu_marks.collect()"
   ]
  },
  {
   "cell_type": "code",
   "execution_count": null,
   "metadata": {
    "application/vnd.databricks.v1+cell": {
     "cellMetadata": {
      "byteLimit": 2048000,
      "rowLimit": 10000
     },
     "inputWidgets": {},
     "nuid": "475f8c70-f745-4b1f-94ed-83b44093c0d2",
     "showTitle": false,
     "title": ""
    }
   },
   "outputs": [
    {
     "name": "stdout",
     "output_type": "stream",
     "text": [
      "Out[57]: [('pass', 630), ('fail', 370)]"
     ]
    }
   ],
   "source": [
    "##### total number of passed/failed students #####\n",
    "# map to grade\n",
    "stu_passed = raw_stu_data.map(lambda row: int(row[5]) )\n",
    "stu_passed = stu_passed.map(lambda grade: (\"pass\", 1) if grade > 50 else (\"fail\", 1) )\n",
    "stu_passed = stu_passed.reduceByKey(lambda val1, val2: val1 + val2)\n",
    "stu_passed.collect()"
   ]
  },
  {
   "cell_type": "code",
   "execution_count": null,
   "metadata": {
    "application/vnd.databricks.v1+cell": {
     "cellMetadata": {
      "byteLimit": 2048000,
      "rowLimit": 10000
     },
     "inputWidgets": {},
     "nuid": "86ef7a70-a7b5-4c04-a8d0-33add0a60dd7",
     "showTitle": false,
     "title": ""
    }
   },
   "outputs": [
    {
     "name": "stdout",
     "output_type": "stream",
     "text": [
      "Out[58]: [('DB', 157),\n",
      " ('Cloud', 192),\n",
      " ('PF', 166),\n",
      " ('MVC', 157),\n",
      " ('OOP', 152),\n",
      " ('DSA', 176)]"
     ]
    }
   ],
   "source": [
    "##### total enrollments per course #####\n",
    "# map to key: course, val: 1, then reduce to count\n",
    "course_enroll = raw_stu_data.map(lambda row: (row[3], 1) )\n",
    "course_enroll = course_enroll.reduceByKey(lambda val1, val2: val1 + val2)\n",
    "course_enroll.collect()"
   ]
  },
  {
   "cell_type": "code",
   "execution_count": null,
   "metadata": {
    "application/vnd.databricks.v1+cell": {
     "cellMetadata": {
      "byteLimit": 2048000,
      "rowLimit": 10000
     },
     "inputWidgets": {},
     "nuid": "05a8d9bd-60c1-4140-a606-241f0386a2db",
     "showTitle": false,
     "title": ""
    }
   },
   "outputs": [
    {
     "name": "stdout",
     "output_type": "stream",
     "text": [
      "Out[59]: [('DB', 9270),\n",
      " ('Cloud', 11443),\n",
      " ('PF', 9933),\n",
      " ('MVC', 9585),\n",
      " ('OOP', 8916),\n",
      " ('DSA', 10950)]"
     ]
    }
   ],
   "source": [
    "##### total marks per course #####\n",
    "# map to key: course, val: marks\n",
    "course_marks = raw_stu_data.map(lambda row: (row[3], int(row[5]) ) )\n",
    "course_marks = course_marks.reduceByKey(lambda val1, val2: val1 + val2)\n",
    "course_marks.collect()"
   ]
  },
  {
   "cell_type": "code",
   "execution_count": null,
   "metadata": {
    "application/vnd.databricks.v1+cell": {
     "cellMetadata": {
      "byteLimit": 2048000,
      "rowLimit": 10000
     },
     "inputWidgets": {},
     "nuid": "a10d7e1c-a262-4c3d-8fa7-0b72ee66bd50",
     "showTitle": false,
     "title": ""
    }
   },
   "outputs": [
    {
     "name": "stdout",
     "output_type": "stream",
     "text": [
      "Out[60]: [('DB', 59.044585987261144),\n",
      " ('Cloud', 59.598958333333336),\n",
      " ('PF', 59.83734939759036),\n",
      " ('MVC', 61.05095541401274),\n",
      " ('OOP', 58.6578947368421),\n",
      " ('DSA', 62.21590909090909)]"
     ]
    }
   ],
   "source": [
    "##### average marks per course #####\n",
    "# map to key: course, val: (mark, 1)\n",
    "course_ave = raw_stu_data.map(lambda row: (row[3], (int(row[5]), 1) ) )\n",
    "course_ave = course_ave.reduceByKey(lambda val1, val2: (val1[0] + val2[0], val1[1] + val2[1]) )\n",
    "course_ave = course_ave.mapValues(lambda val: val[0]/val[1] )\n",
    "course_ave.collect()"
   ]
  },
  {
   "cell_type": "code",
   "execution_count": null,
   "metadata": {
    "application/vnd.databricks.v1+cell": {
     "cellMetadata": {
      "byteLimit": 2048000,
      "rowLimit": 10000
     },
     "inputWidgets": {},
     "nuid": "9365c92d-64a3-4512-a643-31d941c15338",
     "showTitle": false,
     "title": ""
    }
   },
   "outputs": [
    {
     "name": "stdout",
     "output_type": "stream",
     "text": [
      "Out[61]: [('DB', 98), ('Cloud', 99), ('PF', 99), ('MVC', 99), ('OOP', 99), ('DSA', 99)]"
     ]
    }
   ],
   "source": [
    "##### max marks per course#####\n",
    "# map to key: course, val: mark\n",
    "all_marks = raw_stu_data.map(lambda row: (row[3], int(row[5]) ) )\n",
    "max_marks = all_marks.reduceByKey(lambda val1, val2: val1 if val1 > val2 else val2)\n",
    "max_marks.collect()"
   ]
  },
  {
   "cell_type": "code",
   "execution_count": null,
   "metadata": {
    "application/vnd.databricks.v1+cell": {
     "cellMetadata": {
      "byteLimit": 2048000,
      "rowLimit": 10000
     },
     "inputWidgets": {},
     "nuid": "9ed3afcd-ebf8-4095-9625-d72ddaa86704",
     "showTitle": false,
     "title": ""
    }
   },
   "outputs": [
    {
     "name": "stdout",
     "output_type": "stream",
     "text": [
      "Out[62]: [('DB', 20), ('Cloud', 20), ('PF', 20), ('MVC', 22), ('OOP', 20), ('DSA', 20)]"
     ]
    }
   ],
   "source": [
    "##### min marks per course#####\n",
    "min_marks = all_marks.reduceByKey(lambda val1, val2: val1 if val1 < val2 else val2)\n",
    "min_marks.collect()"
   ]
  },
  {
   "cell_type": "code",
   "execution_count": null,
   "metadata": {
    "application/vnd.databricks.v1+cell": {
     "cellMetadata": {
      "byteLimit": 2048000,
      "rowLimit": 10000
     },
     "inputWidgets": {},
     "nuid": "65cbafca-75be-495b-b53b-c8f25b7640f3",
     "showTitle": false,
     "title": ""
    }
   },
   "outputs": [
    {
     "name": "stdout",
     "output_type": "stream",
     "text": [
      "Out[63]: [('Female', 28.489021956087825), ('Male', 28.52304609218437)]"
     ]
    }
   ],
   "source": [
    "##### ave age male and female students #####\n",
    "# map to key: gender, val: (age, 1)\n",
    "ave_age = raw_stu_data.map(lambda row: ( row[1], (int(row[0]), 1 ) ) )\n",
    "ave_age = ave_age.reduceByKey(lambda val1, val2: (val1[0] + val2[0], val1[1] + val2[1]) )\n",
    "ave_age = ave_age.mapValues(lambda val: float(val[0])/val[1])\n",
    "ave_age.collect()"
   ]
  }
 ],
 "metadata": {
  "application/vnd.databricks.v1+notebook": {
   "dashboards": [],
   "language": "python",
   "notebookMetadata": {
    "pythonIndentUnit": 4
   },
   "notebookName": "students_project",
   "widgets": {}
  },
  "language_info": {
   "name": "python"
  }
 },
 "nbformat": 4,
 "nbformat_minor": 0
}
