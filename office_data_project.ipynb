{
 "cells": [
  {
   "cell_type": "code",
   "execution_count": 0,
   "metadata": {
    "application/vnd.databricks.v1+cell": {
     "cellMetadata": {
      "byteLimit": 2048000,
      "rowLimit": 10000
     },
     "inputWidgets": {},
     "nuid": "ce599044-393e-4935-a4ce-caf2d3d0a98f",
     "showTitle": false,
     "title": ""
    }
   },
   "outputs": [],
   "source": [
    "from pyspark.sql import SparkSession\n",
    "from pyspark.storagelevel import StorageLevel\n",
    "from pyspark.sql.functions import min, max, avg, col, udf\n",
    "from pyspark.sql.types import IntegerType\n",
    "spark = SparkSession.builder.appName(\"office_data_project\").getOrCreate()"
   ]
  },
  {
   "cell_type": "code",
   "execution_count": 0,
   "metadata": {
    "application/vnd.databricks.v1+cell": {
     "cellMetadata": {
      "byteLimit": 2048000,
      "rowLimit": 10000
     },
     "inputWidgets": {},
     "nuid": "53f0fe32-b25e-4ac5-9105-e1d3f16c6a4e",
     "showTitle": false,
     "title": ""
    }
   },
   "outputs": [
    {
     "output_type": "stream",
     "name": "stdout",
     "output_type": "stream",
     "text": [
      "+-----------+-------------------+----------+-----+------+---+-----+\n|employee_id|      employee_name|department|state|salary|age|bonus|\n+-----------+-------------------+----------+-----+------+---+-----+\n|       1000|          Nitz Leif| Marketing|   CA|  6131| 26|  543|\n|       1001|    Melissia Dedman|   Finance|   AK|  4027| 43| 1290|\n|       1002|  Rudolph Barringer|        HR|   LA|  3122| 43| 1445|\n|       1003|        Tamra Amber|  Accounts|   AK|  5717| 47| 1291|\n|       1004|        Mullan Nitz|Purchasing|   CA|  5685| 34| 1394|\n|       1005|      Zollner Karie|  Accounts|   CA|  2843| 27| 1078|\n|       1006|Kaczorowski Zollner|     Sales|   CA|  7201| 21| 1834|\n|       1007|      Nakano Locust| Marketing|   LA|  3444| 23| 1823|\n|       1008|  Recalde Kensinger|  Accounts|   LA|  3704| 48| 1330|\n|       1009|        Imai Hallie|  Accounts|   AK|  5061| 38| 1557|\n|       1010|    Debroah Gallman|  Accounts|   NY|  9308| 35|  817|\n|       1011|   Barringer Escoto|Purchasing|   WA|  1685| 49| 1706|\n|       1012|      Soules Coogan|  Accounts|   AK|  8330| 43| 1914|\n|       1013|      Luisa Suzanne|  Accounts|   CA|  1151| 37| 1095|\n|       1014|      Marvis Cobian|Purchasing|   NY|  5061| 41| 1765|\n|       1015|   Cobian Kensinger|     Sales|   LA|  1983| 21|  632|\n|       1016|      Gilma Margret| Marketing|   CA|  2919| 45| 1762|\n|       1017| Ellingsworth Ilana|  Accounts|   WA|  9614| 26| 1964|\n|       1018| Vankirk Jacquelyne|Purchasing|   NY|  8636| 47| 1192|\n|       1019|    Zollner Juliana|        HR|   NY|  9739| 30| 1119|\n+-----------+-------------------+----------+-----+------+---+-----+\nonly showing top 20 rows\n\n"
     ]
    }
   ],
   "source": [
    "office_data = spark.read.options(header=True, inferSchema=True).csv('/FileStore/tables/OfficeDataProject.csv')\n",
    "office_data.persist(StorageLevel.MEMORY_AND_DISK_DESER)\n",
    "office_data.show()"
   ]
  },
  {
   "cell_type": "code",
   "execution_count": 0,
   "metadata": {
    "application/vnd.databricks.v1+cell": {
     "cellMetadata": {
      "byteLimit": 2048000,
      "rowLimit": 10000
     },
     "inputWidgets": {},
     "nuid": "bafa3ca8-b0e7-4513-b611-fe5118ba8872",
     "showTitle": false,
     "title": ""
    }
   },
   "outputs": [
    {
     "output_type": "stream",
     "name": "stdout",
     "output_type": "stream",
     "text": [
      "Out[158]: 1000"
     ]
    }
   ],
   "source": [
    "##### total number of employees #####\n",
    "office_data.count()"
   ]
  },
  {
   "cell_type": "code",
   "execution_count": 0,
   "metadata": {
    "application/vnd.databricks.v1+cell": {
     "cellMetadata": {
      "byteLimit": 2048000,
      "rowLimit": 10000
     },
     "inputWidgets": {},
     "nuid": "3ef44bee-3d6b-4a48-8624-44022e595071",
     "showTitle": false,
     "title": ""
    }
   },
   "outputs": [
    {
     "output_type": "stream",
     "name": "stdout",
     "output_type": "stream",
     "text": [
      "Out[159]: 6"
     ]
    }
   ],
   "source": [
    "##### total number of departments #####\n",
    "office_data.dropDuplicates(['department']).count()"
   ]
  },
  {
   "cell_type": "code",
   "execution_count": 0,
   "metadata": {
    "application/vnd.databricks.v1+cell": {
     "cellMetadata": {
      "byteLimit": 2048000,
      "rowLimit": 10000
     },
     "inputWidgets": {},
     "nuid": "0ddb16ee-65b7-4c9f-a218-5b3fc7b670c8",
     "showTitle": false,
     "title": ""
    }
   },
   "outputs": [
    {
     "output_type": "stream",
     "name": "stdout",
     "output_type": "stream",
     "text": [
      "+----------+\n|department|\n+----------+\n|     Sales|\n|        HR|\n|   Finance|\n|Purchasing|\n| Marketing|\n|  Accounts|\n+----------+\n\n"
     ]
    }
   ],
   "source": [
    "##### department names #####\n",
    "office_data.select('department').dropDuplicates(['department']).show()"
   ]
  },
  {
   "cell_type": "code",
   "execution_count": 0,
   "metadata": {
    "application/vnd.databricks.v1+cell": {
     "cellMetadata": {
      "byteLimit": 2048000,
      "rowLimit": 10000
     },
     "inputWidgets": {},
     "nuid": "10b650d4-86b6-4c8d-8568-58ed7b609f28",
     "showTitle": false,
     "title": ""
    }
   },
   "outputs": [
    {
     "output_type": "stream",
     "name": "stdout",
     "output_type": "stream",
     "text": [
      "+----------+-----+\n|department|count|\n+----------+-----+\n|     Sales|  169|\n|        HR|  171|\n|   Finance|  162|\n|Purchasing|  166|\n| Marketing|  170|\n|  Accounts|  162|\n+----------+-----+\n\n"
     ]
    }
   ],
   "source": [
    "##### total number of employees in each department #####\n",
    "office_data.groupBy(office_data.department).count().show()"
   ]
  },
  {
   "cell_type": "code",
   "execution_count": 0,
   "metadata": {
    "application/vnd.databricks.v1+cell": {
     "cellMetadata": {
      "byteLimit": 2048000,
      "rowLimit": 10000
     },
     "inputWidgets": {},
     "nuid": "7ae38d65-657d-4cfe-952a-6574d9ef68ca",
     "showTitle": false,
     "title": ""
    }
   },
   "outputs": [
    {
     "output_type": "stream",
     "name": "stdout",
     "output_type": "stream",
     "text": [
      "+-----+-----+\n|state|count|\n+-----+-----+\n|   LA|  205|\n|   CA|  205|\n|   WA|  208|\n|   NY|  173|\n|   AK|  209|\n+-----+-----+\n\n"
     ]
    }
   ],
   "source": [
    "##### total number of employees in each state #####\n",
    "office_data.groupBy(office_data.state).count().show()"
   ]
  },
  {
   "cell_type": "code",
   "execution_count": 0,
   "metadata": {
    "application/vnd.databricks.v1+cell": {
     "cellMetadata": {
      "byteLimit": 2048000,
      "rowLimit": 10000
     },
     "inputWidgets": {},
     "nuid": "01f83466-d7b1-4ded-a077-3eb1856ae399",
     "showTitle": false,
     "title": ""
    }
   },
   "outputs": [
    {
     "output_type": "stream",
     "name": "stdout",
     "output_type": "stream",
     "text": [
      "+-----+----------+-----+\n|state|department|count|\n+-----+----------+-----+\n|   AK|Purchasing|   30|\n|   AK|     Sales|   38|\n|   AK|  Accounts|   37|\n|   AK|        HR|   25|\n|   AK|   Finance|   37|\n|   AK| Marketing|   42|\n|   CA|     Sales|   42|\n|   CA| Marketing|   33|\n|   CA|   Finance|   35|\n|   CA|  Accounts|   35|\n|   CA|Purchasing|   32|\n|   CA|        HR|   28|\n|   LA|        HR|   41|\n|   LA|     Sales|   35|\n|   LA|   Finance|   29|\n|   LA|Purchasing|   45|\n|   LA|  Accounts|   29|\n|   LA| Marketing|   26|\n|   NY|  Accounts|   34|\n|   NY|     Sales|   27|\n+-----+----------+-----+\nonly showing top 20 rows\n\n"
     ]
    }
   ],
   "source": [
    "##### total number of employees in each state in each department #####\n",
    "office_data.groupBy(office_data.state, office_data.department).count().sort(office_data.state).show()"
   ]
  },
  {
   "cell_type": "code",
   "execution_count": 0,
   "metadata": {
    "application/vnd.databricks.v1+cell": {
     "cellMetadata": {
      "byteLimit": 2048000,
      "rowLimit": 10000
     },
     "inputWidgets": {},
     "nuid": "4a840dec-8895-4071-88d8-0a8f196f6d1c",
     "showTitle": false,
     "title": ""
    }
   },
   "outputs": [
    {
     "output_type": "stream",
     "name": "stdout",
     "output_type": "stream",
     "text": [
      "+----------+----------+----------+\n|department|min_salary|max_salary|\n+----------+----------+----------+\n|  Accounts|      1007|      9890|\n|   Finance|      1006|      9899|\n| Marketing|      1031|      9974|\n|        HR|      1013|      9982|\n|     Sales|      1103|      9982|\n|Purchasing|      1105|      9985|\n+----------+----------+----------+\n\n"
     ]
    }
   ],
   "source": [
    "##### min/max salaries in each department, sorted in ascending order #####\n",
    "office_data.groupBy(office_data.department)\\\n",
    "    .agg(min('salary').alias('min_salary'), max('salary').alias('max_salary'))\\\n",
    "    .orderBy(col('max_salary'), col('min_salary') ).show()"
   ]
  },
  {
   "cell_type": "code",
   "execution_count": 0,
   "metadata": {
    "application/vnd.databricks.v1+cell": {
     "cellMetadata": {
      "byteLimit": 2048000,
      "rowLimit": 10000
     },
     "inputWidgets": {},
     "nuid": "06a78ef0-799f-47f6-9b44-623d8585b30e",
     "showTitle": false,
     "title": ""
    }
   },
   "outputs": [
    {
     "output_type": "stream",
     "name": "stdout",
     "output_type": "stream",
     "text": [
      "+--------------------+\n|       employee_name|\n+--------------------+\n|       Vivan Sifford|\n|      Herder Gallman|\n|          Nena Rocha|\n|       Leif Lemaster|\n|Ellingsworth Meli...|\n|        Escoto Gilma|\n|     Georgeanna Laub|\n|     Durio Tenenbaum|\n|       Juliana Grigg|\n|        Tiffani Benz|\n|          Nitz Ilana|\n|   Phylicia Antonina|\n|         Durio Janey|\n|       Melissia Jere|\n|      Yukiko Kreamer|\n|      Nena Kensinger|\n|      Antonina Ilana|\n+--------------------+\n\n"
     ]
    }
   ],
   "source": [
    "##### name of NY employees in finance department whose bonuses > average NY bonuses #####\n",
    "ny_office_data = office_data.filter(office_data.state == 'NY')\n",
    "avg_bonus_ny = ny_office_data.groupBy('state')\\\n",
    "    .agg(avg('bonus').alias('avg_bonus') )\\\n",
    "    .select('avg_bonus').collect()[0]['avg_bonus']      # use wrapped RDD to return bonus as float val\n",
    "\n",
    "ny_office_data.filter((ny_office_data.department == 'Finance' ) & (ny_office_data.bonus > avg_bonus_ny) )\\\n",
    "    .select('employee_name').show()"
   ]
  },
  {
   "cell_type": "code",
   "execution_count": 0,
   "metadata": {
    "application/vnd.databricks.v1+cell": {
     "cellMetadata": {
      "byteLimit": 2048000,
      "rowLimit": 10000
     },
     "inputWidgets": {},
     "nuid": "aaf483c7-c6af-400b-9f1f-f34387f7a7eb",
     "showTitle": false,
     "title": ""
    }
   },
   "outputs": [
    {
     "output_type": "stream",
     "name": "stdout",
     "output_type": "stream",
     "text": [
      "+-----------+-------------------+----------+-----+------+---+-----+\n|employee_id|      employee_name|department|state|salary|age|bonus|\n+-----------+-------------------+----------+-----+------+---+-----+\n|       1000|          Nitz Leif| Marketing|   CA|  6131| 26|  543|\n|       1001|    Melissia Dedman|   Finance|   AK|  4027| 43| 1290|\n|       1002|  Rudolph Barringer|        HR|   LA|  3122| 43| 1445|\n|       1003|        Tamra Amber|  Accounts|   AK|  6217| 47| 1291|\n|       1004|        Mullan Nitz|Purchasing|   CA|  5685| 34| 1394|\n|       1005|      Zollner Karie|  Accounts|   CA|  2843| 27| 1078|\n|       1006|Kaczorowski Zollner|     Sales|   CA|  7201| 21| 1834|\n|       1007|      Nakano Locust| Marketing|   LA|  3444| 23| 1823|\n|       1008|  Recalde Kensinger|  Accounts|   LA|  4204| 48| 1330|\n|       1009|        Imai Hallie|  Accounts|   AK|  5061| 38| 1557|\n|       1010|    Debroah Gallman|  Accounts|   NY|  9308| 35|  817|\n|       1011|   Barringer Escoto|Purchasing|   WA|  2185| 49| 1706|\n|       1012|      Soules Coogan|  Accounts|   AK|  8330| 43| 1914|\n|       1013|      Luisa Suzanne|  Accounts|   CA|  1151| 37| 1095|\n|       1014|      Marvis Cobian|Purchasing|   NY|  5061| 41| 1765|\n|       1015|   Cobian Kensinger|     Sales|   LA|  1983| 21|  632|\n|       1016|      Gilma Margret| Marketing|   CA|  2919| 45| 1762|\n|       1017| Ellingsworth Ilana|  Accounts|   WA|  9614| 26| 1964|\n|       1018| Vankirk Jacquelyne|Purchasing|   NY|  9136| 47| 1192|\n|       1019|    Zollner Juliana|        HR|   NY|  9739| 30| 1119|\n+-----------+-------------------+----------+-----+------+---+-----+\nonly showing top 20 rows\n\n"
     ]
    }
   ],
   "source": [
    "##### raise salary by $500 for all employees over 45 #####\n",
    "def update_salary(salary, age):\n",
    "    if age > 45:\n",
    "        return salary + 500\n",
    "    else:\n",
    "        return salary \n",
    "update_salary_udf = udf(lambda salary, age: update_salary(salary, age), IntegerType())\n",
    "\n",
    "office_data.withColumn('salary', update_salary_udf(office_data.salary, office_data.age)).show()"
   ]
  },
  {
   "cell_type": "code",
   "execution_count": 0,
   "metadata": {
    "application/vnd.databricks.v1+cell": {
     "cellMetadata": {
      "byteLimit": 2048000,
      "rowLimit": 10000
     },
     "inputWidgets": {},
     "nuid": "12f34266-067e-49e3-8aa1-1a3a7987b3c3",
     "showTitle": false,
     "title": ""
    }
   },
   "outputs": [
    {
     "output_type": "stream",
     "name": "stdout",
     "output_type": "stream",
     "text": [
      "+-----------+------------------+----------+-----+------+---+-----+\n|employee_id|     employee_name|department|state|salary|age|bonus|\n+-----------+------------------+----------+-----+------+---+-----+\n|       1003|       Tamra Amber|  Accounts|   AK|  5717| 47| 1291|\n|       1008| Recalde Kensinger|  Accounts|   LA|  3704| 48| 1330|\n|       1011|  Barringer Escoto|Purchasing|   WA|  1685| 49| 1706|\n|       1018|Vankirk Jacquelyne|Purchasing|   NY|  8636| 47| 1192|\n|       1025|   Dionne Lemaster|     Sales|   AK|  5134| 48| 1356|\n|       1030|        Trena Benz|  Accounts|   NY|  4376| 49| 1624|\n|       1039|      Dynes Katlyn|  Accounts|   AK|  3039| 48|  834|\n|       1058|      Clune Norene|   Finance|   AK|  1605| 49|  801|\n|       1074|      Rocha Dionne|  Accounts|   CA|  3470| 49|  706|\n|       1088|       Imai Locust|     Sales|   NY|  9982| 49| 1809|\n|       1090| Clemencia Rudolph|   Finance|   NY|  1296| 50| 1209|\n|       1099|    Zollner Marvis|Purchasing|   CA|  4230| 50|  951|\n|       1118|     Kohn Antonina|     Sales|   CA|  9311| 48| 1229|\n|       1126|     Norene Mayeda|  Accounts|   LA|  3100| 50| 1333|\n|       1136|      Jaclyn Baros|     Sales|   LA|  1699| 48| 1094|\n|       1164|    Gallman Nakano|     Sales|   CA|  6813| 47|  857|\n|       1165|       Luisa Grigg|Purchasing|   AK|  9297| 48| 1545|\n|       1169|   Kreamer Shandra|        HR|   WA|  4968| 46|  889|\n|       1170|     Fender Coogan| Marketing|   AK|  1151| 50| 1845|\n|       1183|  Lonergan Bergren|        HR|   NY|  8175| 46| 1730|\n+-----------+------------------+----------+-----+------+---+-----+\nonly showing top 20 rows\n\n"
     ]
    }
   ],
   "source": [
    "##### save df of employees over 45 to file #####\n",
    "\n",
    "employees_over_45 = office_data.filter(office_data.age > 45)\n",
    "employees_over_45.show()\n",
    "employees_over_45.write.csv('/FileStore/tables/OfficeData/over_45_output/')"
   ]
  }
 ],
 "metadata": {
  "application/vnd.databricks.v1+notebook": {
   "dashboards": [],
   "language": "python",
   "notebookMetadata": {
    "pythonIndentUnit": 4
   },
   "notebookName": "office_data_project",
   "widgets": {}
  }
 },
 "nbformat": 4,
 "nbformat_minor": 0
}
